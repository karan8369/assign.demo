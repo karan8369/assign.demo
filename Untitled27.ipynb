{
 "cells": [
  {
   "cell_type": "code",
   "execution_count": null,
   "id": "be13034e",
   "metadata": {},
   "outputs": [],
   "source": [
    "import re\n",
    "def regex_query_tool():\n",
    "    source_text =input(\"Enter the regex pattern: \")\n",
    "    try:\n",
    "        matches = refindall(regex_pattern, source_text)\n",
    "        if matches:\n",
    "            print(\"Match found:\")\n",
    "        else:\n",
    "            print(\"No match found:\")\n",
    "    except re.error as e:\n",
    "        print(\"Regex error:\",e)\n",
    "if __name__ == \"__main__\":\n",
    "    regex_query_tool()\n",
    "    "
   ]
  }
 ],
 "metadata": {
  "kernelspec": {
   "display_name": "Python 3 (ipykernel)",
   "language": "python",
   "name": "python3"
  },
  "language_info": {
   "codemirror_mode": {
    "name": "ipython",
    "version": 3
   },
   "file_extension": ".py",
   "mimetype": "text/x-python",
   "name": "python",
   "nbconvert_exporter": "python",
   "pygments_lexer": "ipython3",
   "version": "3.10.9"
  }
 },
 "nbformat": 4,
 "nbformat_minor": 5
}
